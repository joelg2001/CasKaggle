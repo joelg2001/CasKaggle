{
 "cells": [
  {
   "cell_type": "code",
   "execution_count": 2,
   "metadata": {},
   "outputs": [
    {
     "name": "stdout",
     "output_type": "stream",
     "text": [
      "Grid search\n",
      "Best leaf_size: 1\n",
      "Best p: 1\n",
      "Best n_neighbors: 1\n",
      "Precision at best_score: 0.6731666666666667\n",
      "--- 21.304121255874634 seconds ---\n",
      "Random search\n",
      "Best leaf_size: 1\n",
      "Best p: 1\n",
      "Best n_neighbors: 1\n",
      "Precision at best_score: 0.6718888888888889\n",
      "--- 20.81523585319519 seconds ---\n"
     ]
    }
   ],
   "source": [
    "import sys\n",
    "sys.path.insert(1, '../src')\n",
    "from imports import *\n",
    "from dataset_utilities import *\n",
    "from model_aplication import *\n",
    "from hyperparameters_search import *\n",
    "\n",
    "dataset = load_dataset('..\\data\\smart_grid_stability_augmented.csv')\n",
    "label_encoder = sklearn.preprocessing.LabelEncoder()\n",
    "dataset['stabf']= label_encoder.fit_transform(dataset['stabf'])\n",
    "data = dataset.values\n",
    "y = data[:,-2]\n",
    "y_bin = data[:,-1].astype(int)\n",
    "x = data[:, :12]\n",
    "\n",
    "x_train, y_train, x_val, y_val = split_data(x, y_bin)\n",
    "sel_ = SelectFromModel(LogisticRegression(C=1, penalty='l2', solver='liblinear'))\n",
    "sel_.fit(x_train, np.ravel(y_train, order='C'))\n",
    "sel_.get_support()\n",
    "x_train = pd.DataFrame(x_train)\n",
    "selected_feat = x_train.columns[(sel_.get_support())]\n",
    "x_train_selected = sel_.transform(x_train)\n",
    "x_test_selected = sel_.transform(x_val)\n",
    "x_train_selected.shape, x_train_selected.shape\n",
    "x_selected = np.concatenate((x_train_selected, x_test_selected))\n",
    "y_selected = np.concatenate((y_train, y_val))\n",
    "\n",
    "\n",
    "leaf_size = list(range(1,20))\n",
    "n_neighbors = list(range(1,2))\n",
    "p=[1,2]\n",
    "n_splits=10\n",
    "n_repeats=3\n",
    "Hyperparam_search_KNC(x_selected,y_selected,n_splits,n_repeats,leaf_size,n_neighbors,p,\"Grid search\",\"../models/KnC_grid_little_nonPCA.sav\")\n",
    "Hyperparam_search_KNC(x_selected,y_selected,n_splits,n_repeats,leaf_size,n_neighbors,p,\"Random search\",\"../models/KnC_RS_little_nonPCA.sav\")"
   ]
  }
 ],
 "metadata": {
  "kernelspec": {
   "display_name": "Python 3",
   "language": "python",
   "name": "python3"
  },
  "language_info": {
   "codemirror_mode": {
    "name": "ipython",
    "version": 3
   },
   "file_extension": ".py",
   "mimetype": "text/x-python",
   "name": "python",
   "nbconvert_exporter": "python",
   "pygments_lexer": "ipython3",
   "version": "3.8.3"
  }
 },
 "nbformat": 4,
 "nbformat_minor": 4
}
