{
 "cells": [
  {
   "cell_type": "code",
   "execution_count": 1,
   "metadata": {},
   "outputs": [],
   "source": [
    "import sys\n",
    "sys.path.insert(1, '../src')\n",
    "from imports import *\n",
    "from dataset_utilities import *\n",
    "from model_aplication import *\n",
    "from hyperparameters_search import *"
   ]
  },
  {
   "cell_type": "code",
   "execution_count": 2,
   "metadata": {},
   "outputs": [],
   "source": [
    "dataset = load_dataset('..\\data\\smart_grid_stability_augmented.csv')\n",
    "label_encoder = sklearn.preprocessing.LabelEncoder()\n",
    "dataset['stabf']= label_encoder.fit_transform(dataset['stabf'])\n",
    "\n",
    "dataset_x = dataset.drop(columns='stabf')\n",
    "scaler = MinMaxScaler()\n",
    "data_rescaled = scaler.fit_transform(dataset_x)\n",
    "pca2 = PCA(n_components = 2)\n",
    "pca2.fit(data_rescaled)\n",
    "reduced = pca2.transform(data_rescaled)\n",
    "df2 = pd.DataFrame(reduced, columns = ['pc1','pc2'])\n",
    "df2['stabf'] = dataset['stabf']\n",
    "X2 = df2.drop(['stabf'],axis=1)\n",
    "y2 = df2.filter(['stabf'])"
   ]
  },
  {
   "cell_type": "code",
   "execution_count": 3,
   "metadata": {},
   "outputs": [
    {
     "name": "stdout",
     "output_type": "stream",
     "text": [
      "Grid search\n",
      "Best leaf_size: 1\n",
      "Best p: 1\n",
      "Best n_neighbors: 1\n",
      "Precision at best_score: 0.9993333333333333\n",
      "--- 21.421086072921753 seconds ---\n",
      "Random search\n",
      "Best leaf_size: 1\n",
      "Best p: 2\n",
      "Best n_neighbors: 1\n",
      "Precision at best_score: 1.0\n",
      "--- 20.44273018836975 seconds ---\n"
     ]
    }
   ],
   "source": [
    "leaf_size = list(range(1,20))\n",
    "n_neighbors = list(range(1,2))\n",
    "p=[1,2]\n",
    "n_splits=10\n",
    "n_repeats=3\n",
    "Hyperparam_search_KNC(X2,y2,n_splits,n_repeats,leaf_size,n_neighbors,p,\"Grid search\",\"../models/KnC_grid_little.sav\")\n",
    "Hyperparam_search_KNC(X2,y2,n_splits,n_repeats,leaf_size,n_neighbors,p,\"Random search\",\"../models/KnC_RS_little.sav\")"
   ]
  },
  {
   "cell_type": "code",
   "execution_count": null,
   "metadata": {},
   "outputs": [],
   "source": []
  }
 ],
 "metadata": {
  "kernelspec": {
   "display_name": "Python 3",
   "language": "python",
   "name": "python3"
  },
  "language_info": {
   "codemirror_mode": {
    "name": "ipython",
    "version": 3
   },
   "file_extension": ".py",
   "mimetype": "text/x-python",
   "name": "python",
   "nbconvert_exporter": "python",
   "pygments_lexer": "ipython3",
   "version": "3.8.3"
  }
 },
 "nbformat": 4,
 "nbformat_minor": 4
}
