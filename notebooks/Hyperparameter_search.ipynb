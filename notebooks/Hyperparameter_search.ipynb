{
 "cells": [
  {
   "cell_type": "code",
   "execution_count": 2,
   "metadata": {},
   "outputs": [],
   "source": [
    "import sys\n",
    "sys.path.insert(1, '../src')\n",
    "from imports import *\n",
    "from dataset_utilities import *\n",
    "from model_aplication import *\n",
    "from hyperparameters_search import *"
   ]
  },
  {
   "cell_type": "markdown",
   "metadata": {},
   "source": [
    "Preprocessing necessari per poder fer la execucciò"
   ]
  },
  {
   "cell_type": "code",
   "execution_count": 3,
   "metadata": {},
   "outputs": [],
   "source": [
    "dataset = load_dataset('..\\data\\smart_grid_stability_augmented.csv')\n",
    "label_encoder = sklearn.preprocessing.LabelEncoder()\n",
    "dataset['stabf']= label_encoder.fit_transform(dataset['stabf'])\n",
    "data = dataset.values\n",
    "y = data[:,-2]\n",
    "y_bin = data[:,-1].astype(int)\n",
    "x = data[:, :12]\n",
    "\n",
    "x_train, y_train, x_val, y_val = split_data(x, y_bin)\n",
    "sel_ = SelectFromModel(LogisticRegression(C=1, penalty='l2', solver='liblinear'))\n",
    "sel_.fit(x_train, np.ravel(y_train, order='C'))\n",
    "sel_.get_support()\n",
    "x_train = pd.DataFrame(x_train)\n",
    "selected_feat = x_train.columns[(sel_.get_support())]\n",
    "x_train_selected = sel_.transform(x_train)\n",
    "x_test_selected = sel_.transform(x_val)\n",
    "x_train_selected.shape, x_train_selected.shape\n",
    "x_selected = np.concatenate((x_train_selected, x_test_selected))\n",
    "y_selected = np.concatenate((y_train, y_val))\n",
    "\n",
    "\n",
    "dataset_x = dataset.drop(columns='stabf')\n",
    "scaler = MinMaxScaler()\n",
    "data_rescaled = scaler.fit_transform(dataset_x)\n",
    "pca2 = PCA(n_components = 2)\n",
    "pca2.fit(data_rescaled)\n",
    "reduced = pca2.transform(data_rescaled)\n",
    "df2 = pd.DataFrame(reduced, columns = ['pc1','pc2'])\n",
    "df2['stabf'] = dataset['stabf']\n",
    "X2 = df2.drop(['stabf'],axis=1)\n",
    "y2 = df2.filter(['stabf'])\n",
    "pca95 = PCA(n_components = 0.95, svd_solver='full')\n",
    "pca95.fit(data_rescaled)\n",
    "reduced = pca95.transform(data_rescaled)\n",
    "df95 = pd.DataFrame(reduced, columns = ['pc1','pc2','pc3','pc4','pc5','pc6','pc7','pc8','pc9','pc10','pc11'])\n",
    "df95['stabf']=dataset['stabf']\n",
    "X95 = df95.drop(['stabf'],axis=1)\n",
    "y95 = df95.filter(['stabf'])"
   ]
  },
  {
   "cell_type": "markdown",
   "metadata": {},
   "source": [
    "Fem una recerca d'hiperparametres per trobar els millors atributs del model classificador."
   ]
  },
  {
   "cell_type": "markdown",
   "metadata": {},
   "source": [
    "Recerca amb les millors classes del dataset"
   ]
  },
  {
   "cell_type": "code",
   "execution_count": 3,
   "metadata": {},
   "outputs": [
    {
     "name": "stdout",
     "output_type": "stream",
     "text": [
      "Grid search\n",
      "Best leaf_size: 1\n",
      "Best p: 1\n",
      "Best n_neighbors: 1\n",
      "Precision at best_score: 0.6717222222222222\n",
      "--- 20.418370008468628 seconds ---\n",
      "Random search\n",
      "Best leaf_size: 1\n",
      "Best p: 1\n",
      "Best n_neighbors: 1\n",
      "Precision at best_score: 0.672\n",
      "--- 20.15607190132141 seconds ---\n"
     ]
    }
   ],
   "source": [
    "leaf_size = list(range(1,20))\n",
    "n_neighbors = list(range(1,2))\n",
    "p=[1,2]\n",
    "n_splits=10\n",
    "n_repeats=3\n",
    "Hyperparam_search_KNC(x_selected,y_selected,n_splits,n_repeats,leaf_size,n_neighbors,p,\"Grid search\",\"../models/KnC_grid_little_nonPCA.sav\")\n",
    "Hyperparam_search_KNC(x_selected,y_selected,n_splits,n_repeats,leaf_size,n_neighbors,p,\"Random search\",\"../models/KnC_RS_little_nonPCA.sav\")"
   ]
  },
  {
   "cell_type": "markdown",
   "metadata": {},
   "source": [
    "Recerca amb el PCA en 2 dimensions del dataset"
   ]
  },
  {
   "cell_type": "code",
   "execution_count": 4,
   "metadata": {},
   "outputs": [
    {
     "name": "stdout",
     "output_type": "stream",
     "text": [
      "Grid search\n",
      "Best leaf_size: 1\n",
      "Best p: 1\n",
      "Best n_neighbors: 1\n",
      "Precision at best_score: 0.9996666666666667\n",
      "--- 20.14911937713623 seconds ---\n",
      "Random search\n",
      "Best leaf_size: 1\n",
      "Best p: 1\n",
      "Best n_neighbors: 1\n",
      "Precision at best_score: 0.9986666666666667\n",
      "--- 33.9003701210022 seconds ---\n"
     ]
    }
   ],
   "source": [
    "leaf_size = list(range(1,20))\n",
    "n_neighbors = list(range(1,2))\n",
    "p=[1,2]\n",
    "n_splits=10\n",
    "n_repeats=3\n",
    "Hyperparam_search_KNC(X2,y2,n_splits,n_repeats,leaf_size,n_neighbors,p,\"Grid search\",\"../models/KnC_grid_little.sav\")\n",
    "Hyperparam_search_KNC(X2,y2,n_splits,n_repeats,leaf_size,n_neighbors,p,\"Random search\",\"../models/KnC_RS_little.sav\")\n"
   ]
  },
  {
   "cell_type": "markdown",
   "metadata": {},
   "source": [
    "Amb més detall"
   ]
  },
  {
   "cell_type": "code",
   "execution_count": 8,
   "metadata": {},
   "outputs": [
    {
     "name": "stdout",
     "output_type": "stream",
     "text": [
      "Grid search\n",
      "Best leaf_size: 1\n",
      "Best p: 2\n",
      "Best n_neighbors: 1\n",
      "Precision at best_score: 0.9996666666666667\n",
      "--- 1535.4335567951202 seconds ---\n",
      "Random search\n",
      "Best leaf_size: 49\n",
      "Best p: 2\n",
      "Best n_neighbors: 1\n",
      "Precision at best_score: 0.9993333333333333\n",
      "--- 256.38655066490173 seconds ---\n"
     ]
    }
   ],
   "source": [
    "cv = RepeatedStratifiedKFold(n_splits=10, n_repeats=3)\n",
    "leaf_size = list(range(1,50))\n",
    "n_neighbors = list(range(1,30))\n",
    "p=[1,2]\n",
    "n_splits=10\n",
    "n_repeats=3\n",
    "Hyperparam_search_KNC(X2,y2,n_splits,n_repeats,leaf_size,n_neighbors,p,\"Grid search\",\"../models/KnC_grid.sav\")\n",
    "Hyperparam_search_KNC(X2,y2,n_splits,n_repeats,leaf_size,n_neighbors,p,\"Random search\",\"../models/KnC_RS.sav\")\n"
   ]
  },
  {
   "cell_type": "markdown",
   "metadata": {},
   "source": [
    "Provem també amb el Random Forest amb totes les dades inicials."
   ]
  },
  {
   "cell_type": "code",
   "execution_count": 5,
   "metadata": {},
   "outputs": [
    {
     "name": "stdout",
     "output_type": "stream",
     "text": [
      "Grid search\n",
      "Best number of estimators: 350\n",
      "Best max_depth: None\n",
      "Bootstrap: False\n",
      "R^2 at best_score: 0.7163809523809523\n",
      "--- 218.61729335784912 seconds ---\n",
      "Random search\n",
      "Best number of estimators: 1100\n",
      "Best max_depth: None\n",
      "Bootstrap: False\n",
      "R^2 at best_score: 0.7124761904761905\n",
      "--- 259.89116191864014 seconds ---\n"
     ]
    }
   ],
   "source": [
    "n_estimators = [int(x) for x in np.linspace(start = 100, stop = 1100, num = 5)]\n",
    "n_splits = 5\n",
    "n_repeats = 3\n",
    "max_depth = [int(x) for x in np.linspace(0, 3, 1)]\n",
    "max_depth.append(None)\n",
    "min_samples_split = [2]\n",
    "min_samples_leaf = [1]\n",
    "bootstrap = [False]\n",
    "\n",
    "\n",
    "Hyperparam_search_RF(x_selected,y_selected,n_splits,n_repeats,n_estimators,max_depth,min_samples_split,min_samples_leaf,bootstrap,\"Grid search\",\"../models/R_f_little_grid.sav\")\n",
    "Hyperparam_search_RF(x_selected,y_selected,n_splits,n_repeats,n_estimators,max_depth,min_samples_split,min_samples_leaf,bootstrap,\"Random search\",\"../models/R_f_little_RD.sav\")"
   ]
  },
  {
   "cell_type": "code",
   "execution_count": 7,
   "metadata": {},
   "outputs": [
    {
     "name": "stdout",
     "output_type": "stream",
     "text": [
      "Grid search\n",
      "Best number of estimators: 850\n",
      "Best max_depth: None\n",
      "Bootstrap: True\n",
      "R^2 at best_score: 0.7241428571428571\n",
      "--- 349.1152548789978 seconds ---\n",
      "Random search\n",
      "Best number of estimators: 600\n",
      "Best max_depth: None\n",
      "Bootstrap: True\n",
      "R^2 at best_score: 0.7249285714285715\n",
      "--- 337.97675943374634 seconds ---\n"
     ]
    }
   ],
   "source": [
    "n_estimators = [int(x) for x in np.linspace(start = 100, stop = 1100, num = 5)]\n",
    "n_splits=5\n",
    "n_repeats=3\n",
    "max_depth =[0]\n",
    "max_depth.append(None)\n",
    "min_samples_split = [2]\n",
    "min_samples_leaf = [1]\n",
    "bootstrap = [True, False]\n",
    "\n",
    "\n",
    "Hyperparam_search_RF(x_selected,y_selected,n_splits,n_repeats,n_estimators,max_depth,min_samples_split,min_samples_leaf,bootstrap,\"Grid search\",\"../models/R_f_grid.sav\")\n",
    "Hyperparam_search_RF(x_selected,y_selected,n_splits,n_repeats,n_estimators,max_depth,min_samples_split,min_samples_leaf,bootstrap,\"Random search\",\"../models/R_f_RD.sav\")"
   ]
  },
  {
   "cell_type": "code",
   "execution_count": 9,
   "metadata": {},
   "outputs": [
    {
     "name": "stdout",
     "output_type": "stream",
     "text": [
      "Grid search\n",
      "Best number of estimators: 600\n",
      "Best max_depth: None\n",
      "Bootstrap: True\n",
      "R^2 at best_score: 0.7233333333333334\n",
      "--- 1042.6548092365265 seconds ---\n",
      "Random search\n",
      "Best number of estimators: 850\n",
      "Best max_depth: None\n",
      "Bootstrap: True\n",
      "R^2 at best_score: 0.7256428571428571\n",
      "--- 1048.0724411010742 seconds ---\n"
     ]
    }
   ],
   "source": [
    "n_estimators = [int(x) for x in np.linspace(start = 100, stop = 1100, num = 5)]\n",
    "n_splits = 10\n",
    "n_repeats = 3\n",
    "max_depth = [int(x) for x in np.linspace(0, 3, 4)]\n",
    "max_depth.append(None)\n",
    "min_samples_split = [2]\n",
    "min_samples_leaf = [1]\n",
    "bootstrap = [True, False]\n",
    "Hyperparam_search_RF(x_selected,y_selected,n_splits,n_repeats,n_estimators,max_depth,min_samples_split,min_samples_leaf,bootstrap,\"Grid search\",\"../models/R_f_Bgrid.sav\")\n",
    "Hyperparam_search_RF(x_selected,y_selected,n_splits,n_repeats,n_estimators,max_depth,min_samples_split,min_samples_leaf,bootstrap,\"Random search\",\"../models/R_f_BRD.sav\")"
   ]
  },
  {
   "cell_type": "code",
   "execution_count": null,
   "metadata": {},
   "outputs": [],
   "source": []
  }
 ],
 "metadata": {
  "kernelspec": {
   "display_name": "Python 3",
   "language": "python",
   "name": "python3"
  },
  "language_info": {
   "codemirror_mode": {
    "name": "ipython",
    "version": 3
   },
   "file_extension": ".py",
   "mimetype": "text/x-python",
   "name": "python",
   "nbconvert_exporter": "python",
   "pygments_lexer": "ipython3",
   "version": "3.8.3"
  }
 },
 "nbformat": 4,
 "nbformat_minor": 4
}
